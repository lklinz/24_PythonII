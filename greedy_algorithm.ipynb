{
 "cells": [
  {
   "cell_type": "code",
   "execution_count": 21,
   "metadata": {},
   "outputs": [],
   "source": [
    "def get_weight(overlap):\n",
    "    \n",
    "    '''set the key for sorting'''\n",
    "\n",
    "    return overlap[2]\n"
   ]
  },
  {
   "cell_type": "code",
   "execution_count": 22,
   "metadata": {},
   "outputs": [],
   "source": [
    "\n",
    "def overlap_time(string1,string2):\n",
    "    \n",
    "    '''checking the overlap time'''\n",
    "\n",
    "    overlap_time = 0\n",
    "    for character_location in range(1,len(string1)):\n",
    "        if character_location >=len(string2): \n",
    "            break\n",
    "        else:\n",
    "            if string1[-character_location:] == string2[0:character_location]:\n",
    "                overlap_time = character_location\n",
    "    return overlap_time"
   ]
  },
  {
   "cell_type": "code",
   "execution_count": 23,
   "metadata": {},
   "outputs": [],
   "source": [
    "\n",
    "def largest_overlap(string_set):\n",
    "\n",
    "    '''creating a descending list of overlay time between each pair of string the set of string'''\n",
    "\n",
    "    overlap_list = []\n",
    "    for location in range(len(string_set)-1):\n",
    "        candidate1 = string_set[location]\n",
    "        for move in range(location+1,len(string_set)):\n",
    "            candidate2 = string_set[move]\n",
    "            overlap_list.append((candidate1,candidate2,overlap_time(candidate1,candidate2)))\n",
    "    \n",
    "    overlap_list.sort(key = get_weight,reverse=True)\n",
    "    return overlap_list\n"
   ]
  },
  {
   "cell_type": "code",
   "execution_count": 24,
   "metadata": {},
   "outputs": [],
   "source": [
    "\n",
    "def new_string_set(string_set):\n",
    "\n",
    "    '''update the set of string'''\n",
    "\n",
    "    overlap_list = largest_overlap(string_set)\n",
    "\n",
    "    new_string = overlap_list[0][0] + overlap_list[0][1][overlap_list[0][2]:]\n",
    "    string_set.remove(overlap_list[0][0]) \n",
    "    string_set.remove(overlap_list[0][1])\n",
    "    string_set.insert(0,new_string)\n",
    "    \n",
    "    return string_set"
   ]
  },
  {
   "cell_type": "code",
   "execution_count": 30,
   "metadata": {},
   "outputs": [
    {
     "name": "stdout",
     "output_type": "stream",
     "text": [
      "['XYZUVW']\n"
     ]
    }
   ],
   "source": [
    "\n",
    "def shortest_superstring(string_set):\n",
    "\n",
    "    '''finding the shortest superstring'''\n",
    "    \n",
    "    string_set = new_string_set(string_set)\n",
    "\n",
    "    while len(string_set) != 1:\n",
    "\n",
    "        '''remove_substring(string_set)'''\n",
    "\n",
    "        remove_item = []\n",
    "        flag = 1\n",
    "        for string in string_set:\n",
    "            remove = False\n",
    "            for s in range(flag,len(string_set)):\n",
    "                if string_set[s] in string:\n",
    "                    remove_item.append(string_set[s])\n",
    "                    remove = True\n",
    "                elif string in string_set[s]:\n",
    "                    remove_item.append(string)\n",
    "                    remove = True\n",
    "            if remove == True:\n",
    "                for item in remove_item:\n",
    "                    string_set.remove(item)\n",
    "            flag += 1\n",
    "\n",
    "        '''update the string set'''   \n",
    "\n",
    "        new_string_set(string_set)\n",
    "\n",
    "    print(string_set)\n",
    "\n",
    "shortest_superstring(['UV', 'VW', 'XY', 'YZ'])"
   ]
  }
 ],
 "metadata": {
  "kernelspec": {
   "display_name": "Python 3",
   "language": "python",
   "name": "python3"
  },
  "language_info": {
   "codemirror_mode": {
    "name": "ipython",
    "version": 3
   },
   "file_extension": ".py",
   "mimetype": "text/x-python",
   "name": "python",
   "nbconvert_exporter": "python",
   "pygments_lexer": "ipython3",
   "version": "3.10.13"
  }
 },
 "nbformat": 4,
 "nbformat_minor": 2
}
