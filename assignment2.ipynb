{
 "cells": [
  {
   "cell_type": "code",
   "execution_count": 1,
   "metadata": {},
   "outputs": [
    {
     "data": {
      "text/plain": [
       "{'word': 3, 'text': 1, 'string': 1}"
      ]
     },
     "execution_count": 1,
     "metadata": {},
     "output_type": "execute_result"
    }
   ],
   "source": [
    "def histogram(string_list):\n",
    "    string_frequency = dict()\n",
    "    for string in string_list:\n",
    "        if string in string_frequency:\n",
    "            string_frequency[string] += 1\n",
    "        else:\n",
    "            string_frequency[string] = 1\n",
    "    return string_frequency\n",
    "\n",
    "histogram(['word', 'text', 'word', 'word', 'string']) "
   ]
  },
  {
   "cell_type": "code",
   "execution_count": 2,
   "metadata": {},
   "outputs": [
    {
     "name": "stdout",
     "output_type": "stream",
     "text": [
      "True\n",
      "False\n"
     ]
    }
   ],
   "source": [
    "def reverse_tuple(tuple_set1, tuple_set2):\n",
    "    reverse_tuple1 = ()\n",
    "    for tuple1 in tuple_set1:\n",
    "        reverse_tuple1 = tuple1[1],tuple1[0]\n",
    "        if reverse_tuple1 in tuple_set2:\n",
    "            return True\n",
    "        else:\n",
    "            return False\n",
    "\n",
    "print(reverse_tuple({(1, 2), (3, 4)}, {(2, 1), (5, 6)}))\n",
    "print(reverse_tuple({(1, 2), (3, 4)}, {(1, 2), (2, 3)}))\n",
    "            "
   ]
  }
 ],
 "metadata": {
  "kernelspec": {
   "display_name": "Python 3",
   "language": "python",
   "name": "python3"
  },
  "language_info": {
   "codemirror_mode": {
    "name": "ipython",
    "version": 3
   },
   "file_extension": ".py",
   "mimetype": "text/x-python",
   "name": "python",
   "nbconvert_exporter": "python",
   "pygments_lexer": "ipython3",
   "version": "3.10.13"
  }
 },
 "nbformat": 4,
 "nbformat_minor": 2
}
