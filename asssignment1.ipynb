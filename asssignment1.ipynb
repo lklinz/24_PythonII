{
 "cells": [
  {
   "cell_type": "code",
   "execution_count": 23,
   "metadata": {},
   "outputs": [],
   "source": [
    "def is_perfect_(intput_int):\n",
    "    sum = 0\n",
    "    for i in range(1,intput_int):\n",
    "        if intput_int % i == 0:\n",
    "            sum += i\n",
    "    if sum == intput_int:\n",
    "        return True\n",
    "    else:\n",
    "        return False\n",
    "\n"
   ]
  },
  {
   "cell_type": "code",
   "execution_count": 24,
   "metadata": {},
   "outputs": [
    {
     "name": "stdout",
     "output_type": "stream",
     "text": [
      "True\n",
      "False\n"
     ]
    }
   ],
   "source": [
    "print(is_perfect_(496))\n",
    "print(is_perfect_(100))"
   ]
  },
  {
   "cell_type": "code",
   "execution_count": 3,
   "metadata": {},
   "outputs": [],
   "source": [
    "def lcm(int1, int2):\n",
    "    if int1 > int2:\n",
    "        multiple = int1\n",
    "        while multiple % int2 != 0:\n",
    "            multiple += int1\n",
    "    else:\n",
    "        multiple = int2\n",
    "        while multiple % int1 != 0:\n",
    "            multiple += int2\n",
    "    return multiple\n"
   ]
  },
  {
   "cell_type": "code",
   "execution_count": 4,
   "metadata": {},
   "outputs": [
    {
     "name": "stdout",
     "output_type": "stream",
     "text": [
      "30\n",
      "30\n",
      "30\n"
     ]
    }
   ],
   "source": [
    "print(lcm(3,10))\n",
    "print(lcm(6,10))\n",
    "print(lcm(10,30))"
   ]
  }
 ],
 "metadata": {
  "kernelspec": {
   "display_name": "Python 3",
   "language": "python",
   "name": "python3"
  },
  "language_info": {
   "codemirror_mode": {
    "name": "ipython",
    "version": 3
   },
   "file_extension": ".py",
   "mimetype": "text/x-python",
   "name": "python",
   "nbconvert_exporter": "python",
   "pygments_lexer": "ipython3",
   "version": "3.10.13"
  }
 },
 "nbformat": 4,
 "nbformat_minor": 2
}
